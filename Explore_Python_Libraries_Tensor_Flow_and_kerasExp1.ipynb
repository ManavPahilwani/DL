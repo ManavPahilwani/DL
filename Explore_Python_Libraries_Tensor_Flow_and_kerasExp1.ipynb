{
  "nbformat": 4,
  "nbformat_minor": 0,
  "metadata": {
    "colab": {
      "provenance": []
    },
    "kernelspec": {
      "name": "python3",
      "display_name": "Python 3"
    },
    "language_info": {
      "name": "python"
    }
  },
  "cells": [
    {
      "cell_type": "code",
      "source": [
        "import tensorflow as tf\n",
        "from tensorflow import keras\n",
        "import numpy as np\n",
        "\n",
        "(x_train, y_train), (x_test, y_test) = keras.datasets.mnist.load_data()\n",
        "x_train = x_train.reshape(x_train.shape[0], 784).astype('float32') / 255\n",
        "x_test = x_test.reshape(x_test.shape[0], 784).astype('float32') / 255\n",
        "\n",
        "model = keras.Sequential([\n",
        "    keras.layers.Dense(128, activation='relu', input_shape=(784,)),\n",
        "    keras.layers.Dropout(0.2),\n",
        "    keras.layers.Dense(10, activation='softmax')\n",
        "])\n",
        "\n",
        "model.compile(optimizer='adam',\n",
        "              loss='sparse_categorical_crossentropy',\n",
        "              metrics=['accuracy'])"
      ],
      "metadata": {
        "id": "u0t4ThdMB7ge"
      },
      "execution_count": null,
      "outputs": []
    },
    {
      "cell_type": "code",
      "source": [
        "model.fit(x_train, y_train, epochs=5, batch_size=32, validation_split=0.2, verbose=2)"
      ],
      "metadata": {
        "colab": {
          "base_uri": "https://localhost:8080/"
        },
        "id": "A79pKqONIJWZ",
        "outputId": "a24c7ff5-0002-41ce-a225-ff9ec941753a"
      },
      "execution_count": null,
      "outputs": [
        {
          "output_type": "stream",
          "name": "stdout",
          "text": [
            "Epoch 1/5\n",
            "1500/1500 - 7s - loss: 0.3276 - accuracy: 0.9045 - val_loss: 0.1591 - val_accuracy: 0.9567 - 7s/epoch - 5ms/step\n",
            "Epoch 2/5\n",
            "1500/1500 - 6s - loss: 0.1592 - accuracy: 0.9528 - val_loss: 0.1130 - val_accuracy: 0.9668 - 6s/epoch - 4ms/step\n",
            "Epoch 3/5\n",
            "1500/1500 - 7s - loss: 0.1173 - accuracy: 0.9652 - val_loss: 0.1004 - val_accuracy: 0.9707 - 7s/epoch - 5ms/step\n",
            "Epoch 4/5\n",
            "1500/1500 - 5s - loss: 0.0959 - accuracy: 0.9704 - val_loss: 0.0903 - val_accuracy: 0.9737 - 5s/epoch - 3ms/step\n",
            "Epoch 5/5\n",
            "1500/1500 - 6s - loss: 0.0807 - accuracy: 0.9746 - val_loss: 0.0860 - val_accuracy: 0.9748 - 6s/epoch - 4ms/step\n"
          ]
        },
        {
          "output_type": "execute_result",
          "data": {
            "text/plain": [
              "<keras.src.callbacks.History at 0x7f1603ad1870>"
            ]
          },
          "metadata": {},
          "execution_count": 5
        }
      ]
    },
    {
      "cell_type": "code",
      "source": [
        "test_loss, test_acc = model.evaluate(x_test, y_test, verbose=2)\n",
        "print(f'Test accuracy: {test_acc}')"
      ],
      "metadata": {
        "colab": {
          "base_uri": "https://localhost:8080/"
        },
        "id": "2gtDSU9uF_bI",
        "outputId": "c15e0929-df57-4f7d-a766-8e7392c82bbb"
      },
      "execution_count": null,
      "outputs": [
        {
          "output_type": "stream",
          "name": "stdout",
          "text": [
            "313/313 - 1s - loss: 0.0788 - accuracy: 0.9763 - 598ms/epoch - 2ms/step\n",
            "Test accuracy: 0.9763000011444092\n"
          ]
        }
      ]
    },
    {
      "cell_type": "code",
      "source": [
        "predictions = model.predict(x_test)\n",
        "print(\"Array of Predictions (After Softmax Activation):\\n\", predictions)"
      ],
      "metadata": {
        "colab": {
          "base_uri": "https://localhost:8080/"
        },
        "id": "0LnSw2L0GDgG",
        "outputId": "ba739433-c66e-464e-f85c-1ff708564cc5"
      },
      "execution_count": null,
      "outputs": [
        {
          "output_type": "stream",
          "name": "stdout",
          "text": [
            "313/313 [==============================] - 1s 2ms/step\n",
            "Array of Predictions (After Softmax Activation):\n",
            " [[1.0186244e-08 2.3900778e-08 3.3460066e-05 ... 9.9963361e-01\n",
            "  5.5997532e-08 5.0752914e-07]\n",
            " [1.0289304e-07 2.3778812e-04 9.9974918e-01 ... 3.0187278e-13\n",
            "  7.4955113e-07 4.2589549e-10]\n",
            " [1.5180682e-06 9.9950069e-01 5.5849436e-05 ... 2.2125122e-04\n",
            "  7.5654272e-05 1.0898699e-05]\n",
            " ...\n",
            " [4.4992475e-11 5.4085519e-10 3.7977702e-10 ... 1.5444708e-05\n",
            "  4.1192934e-06 1.2364843e-03]\n",
            " [1.9430976e-08 5.6745865e-08 3.2801979e-12 ... 3.0683534e-08\n",
            "  5.3439369e-05 3.1266978e-09]\n",
            " [9.1846374e-07 1.8102955e-10 4.5412907e-07 ... 2.5522807e-12\n",
            "  9.0119257e-10 4.8147397e-09]]\n"
          ]
        }
      ]
    },
    {
      "cell_type": "code",
      "source": [
        "loss_value = tf.keras.losses.sparse_categorical_crossentropy(y_test, predictions).numpy()\n",
        "print(\"Loss Function Value:\", np.mean(loss_value))"
      ],
      "metadata": {
        "colab": {
          "base_uri": "https://localhost:8080/"
        },
        "id": "H2pdFignGGyh",
        "outputId": "f6981ada-0a16-418b-c6ec-fc68420ca2e3"
      },
      "execution_count": null,
      "outputs": [
        {
          "output_type": "stream",
          "name": "stdout",
          "text": [
            "Loss Function Value: 0.07879581\n"
          ]
        }
      ]
    }
  ]
}