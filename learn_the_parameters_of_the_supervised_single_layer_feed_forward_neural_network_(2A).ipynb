{
  "nbformat": 4,
  "nbformat_minor": 0,
  "metadata": {
    "colab": {
      "provenance": []
    },
    "kernelspec": {
      "name": "python3",
      "display_name": "Python 3"
    },
    "language_info": {
      "name": "python"
    }
  },
  "cells": [
    {
      "cell_type": "code",
      "execution_count": null,
      "metadata": {
        "colab": {
          "base_uri": "https://localhost:8080/"
        },
        "id": "IaaiHGOyPXg3",
        "outputId": "e3e9b222-4ba2-4062-9c4a-cd6cf2335d54"
      },
      "outputs": [
        {
          "output_type": "stream",
          "name": "stdout",
          "text": [
            "1/1 [==============================] - 0s 75ms/step\n",
            "Input: [0 0], Predicted Output: 0.5000\n",
            "1/1 [==============================] - 0s 20ms/step\n",
            "Input: [0 1], Predicted Output: 0.5000\n",
            "1/1 [==============================] - 0s 21ms/step\n",
            "Input: [1 0], Predicted Output: 0.5000\n",
            "1/1 [==============================] - 0s 24ms/step\n",
            "Input: [1 1], Predicted Output: 0.5000\n"
          ]
        }
      ],
      "source": [
        "import numpy as np\n",
        "from keras.optimizers import Adam\n",
        "\n",
        "# Define the sigmoid activation function\n",
        "def sigmoid(x):\n",
        "    return 1 / (1 + np.exp(-x))\n",
        "\n",
        "# Define the derivative of the sigmoid function\n",
        "def sigmoid_derivative(x):\n",
        "    return x * (1 - x)\n",
        "\n",
        "# Input features and target outputs for XOR gate\n",
        "X = np.array([[0, 0], [0, 1], [1, 0], [1, 1]])\n",
        "y = np.array([[0], [1], [1], [0]])\n",
        "\n",
        "# Hyperparameters\n",
        "epochs = 10000\n",
        "\n",
        "# Build the model with the Adam optimizer\n",
        "from keras.models import Sequential\n",
        "from keras.layers import Dense\n",
        "\n",
        "model = Sequential()\n",
        "model.add(Dense(1, input_dim=2, activation='sigmoid'))\n",
        "optimizer = Adam(learning_rate=0.1)\n",
        "model.compile(loss='mean_squared_error', optimizer=optimizer)\n",
        "\n",
        "# Training using Adam optimizer\n",
        "history = model.fit(X, y, epochs=epochs, verbose=0)\n",
        "\n",
        "# Evaluate the trained model\n",
        "for i in range(len(X)):\n",
        "    predicted_output = model.predict(np.array([X[i]]))[0][0]\n",
        "    print(f\"Input: {X[i]}, Predicted Output: {predicted_output:.4f}\")\n"
      ]
    }
  ]
}