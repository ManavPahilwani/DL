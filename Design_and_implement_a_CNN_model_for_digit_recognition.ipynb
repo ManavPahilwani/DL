{
  "nbformat": 4,
  "nbformat_minor": 0,
  "metadata": {
    "colab": {
      "provenance": []
    },
    "kernelspec": {
      "name": "python3",
      "display_name": "Python 3"
    },
    "language_info": {
      "name": "python"
    }
  },
  "cells": [
    {
      "cell_type": "code",
      "execution_count": null,
      "metadata": {
        "id": "l40zhdet0_Ql"
      },
      "outputs": [],
      "source": [
        "import tensorflow as tf\n",
        "from tensorflow.keras import layers, models\n",
        "from tensorflow.keras.datasets import mnist\n",
        "from tensorflow.keras.utils import to_categorical"
      ]
    },
    {
      "cell_type": "code",
      "source": [
        "(train_images, train_labels), (test_images, test_labels) = mnist.load_data()\n",
        "train_images = train_images.reshape((60000, 28, 28, 1))\n",
        "train_images = train_images.astype('float32') / 255\n",
        "test_images = test_images.reshape((10000, 28, 28, 1))\n",
        "test_images = test_images.astype('float32') / 255\n",
        "train_labels = to_categorical(train_labels)\n",
        "test_labels = to_categorical(test_labels)"
      ],
      "metadata": {
        "colab": {
          "base_uri": "https://localhost:8080/"
        },
        "id": "EhujhVid2-FW",
        "outputId": "45b2fd82-ccca-4131-a4d1-1573ca7ee4c4"
      },
      "execution_count": null,
      "outputs": [
        {
          "output_type": "stream",
          "name": "stdout",
          "text": [
            "Downloading data from https://storage.googleapis.com/tensorflow/tf-keras-datasets/mnist.npz\n",
            "11490434/11490434 [==============================] - 0s 0us/step\n"
          ]
        }
      ]
    },
    {
      "cell_type": "code",
      "source": [
        "model = models.Sequential()\n",
        "model.add(layers.Conv2D(32, (3, 3), activation='relu', input_shape=(28, 28, 1)))\n",
        "model.add(layers.MaxPooling2D((2, 2)))\n",
        "model.add(layers.Conv2D(64, (3, 3), activation='relu'))\n",
        "model.add(layers.MaxPooling2D((2, 2)))\n",
        "model.add(layers.Conv2D(64, (3, 3), activation='relu'))"
      ],
      "metadata": {
        "id": "gk55o0iT3B7W"
      },
      "execution_count": null,
      "outputs": []
    },
    {
      "cell_type": "code",
      "source": [
        "model.add(layers.Flatten())\n",
        "model.add(layers.Dense(64, activation='relu'))\n",
        "model.add(layers.Dense(10, activation='softmax'))"
      ],
      "metadata": {
        "id": "MigFG1YA3Dwp"
      },
      "execution_count": null,
      "outputs": []
    },
    {
      "cell_type": "code",
      "source": [
        "model.compile(optimizer='adam',\n",
        "              loss='categorical_crossentropy',\n",
        "              metrics=['accuracy'])\n",
        "\n",
        "history = model.fit(train_images, train_labels, epochs=5, batch_size=64, validation_split=0.2)\n",
        "test_loss, test_acc = model.evaluate(test_images, test_labels)\n",
        "print(\"Test accuracy:\", test_acc)"
      ],
      "metadata": {
        "colab": {
          "base_uri": "https://localhost:8080/"
        },
        "id": "VlYHnGPN3IDt",
        "outputId": "ae4053d4-9fc0-4174-a2b7-32cbac7fcb8c"
      },
      "execution_count": null,
      "outputs": [
        {
          "output_type": "stream",
          "name": "stdout",
          "text": [
            "Epoch 1/5\n",
            "750/750 [==============================] - 48s 62ms/step - loss: 0.2144 - accuracy: 0.9345 - val_loss: 0.0731 - val_accuracy: 0.9797\n",
            "Epoch 2/5\n",
            "750/750 [==============================] - 49s 66ms/step - loss: 0.0571 - accuracy: 0.9815 - val_loss: 0.0487 - val_accuracy: 0.9858\n",
            "Epoch 3/5\n",
            "750/750 [==============================] - 48s 64ms/step - loss: 0.0408 - accuracy: 0.9873 - val_loss: 0.0425 - val_accuracy: 0.9871\n",
            "Epoch 4/5\n",
            "750/750 [==============================] - 48s 63ms/step - loss: 0.0307 - accuracy: 0.9902 - val_loss: 0.0442 - val_accuracy: 0.9874\n",
            "Epoch 5/5\n",
            "750/750 [==============================] - 49s 65ms/step - loss: 0.0256 - accuracy: 0.9921 - val_loss: 0.0454 - val_accuracy: 0.9877\n",
            "313/313 [==============================] - 3s 8ms/step - loss: 0.0347 - accuracy: 0.9887\n",
            "Test accuracy: 0.9886999726295471\n"
          ]
        }
      ]
    }
  ]
}